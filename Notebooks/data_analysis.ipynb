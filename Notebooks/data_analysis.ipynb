{
 "cells": [
  {
   "cell_type": "markdown",
   "id": "e4908535-4f57-4a4b-a5f9-77e4f3892ac6",
   "metadata": {},
   "source": [
    "# **LVPM Data Analysis**\n",
    "- Author: Kim Dohwan [@ehghks021203](https://github.com/ehghks021203)\n",
    "- Date: 2023.09.10. ~\n",
    "- Description: Land value prediction model with XGBoost.\n",
    "------"
   ]
  },
  {
   "cell_type": "code",
   "execution_count": 1,
   "id": "d4915bf9-272c-4ec5-9129-b4e2cda0a120",
   "metadata": {
    "tags": []
   },
   "outputs": [],
   "source": [
    "import os\n",
    "import sys\n",
    "sys.path.append(os.path.dirname(os.path.abspath('')))\n",
    "\n",
    "from config import BASE_DIR\n",
    "\n",
    "# progress bar\n",
    "from tqdm import trange, notebook\n",
    "\n",
    "# linear algebra\n",
    "import numpy as np \n",
    "\n",
    "# data processing\n",
    "import pandas as pd\n",
    "pd.options.display.float_format = \"{: .2f}\".format\n",
    "\n",
    "# data visualization\n",
    "%matplotlib inline\n",
    "import seaborn as sns\n",
    "import matplotlib.pyplot as plt\n",
    "import matplotlib.font_manager as fm\n",
    "plt.rcParams[\"axes.labelsize\"] = 14\n",
    "plt.rcParams[\"xtick.labelsize\"] = 12\n",
    "plt.rcParams[\"ytick.labelsize\"] = 12\n",
    "sns.set(style=\"white\", context=\"notebook\", palette=\"deep\")\n",
    "\n",
    "# preprocessing\n",
    "from sklearn.model_selection import train_test_split\n",
    "\n",
    "# data analysis\n",
    "from scipy.stats import kstest\n",
    "from scipy.stats import skew, norm\n",
    "\n",
    "# model\n",
    "import xgboost as xgb\n",
    "\n",
    "# model visualization\n",
    "from xgboost import plot_importance\n",
    "from pdpbox import info_plots\n",
    "\n",
    "# model validation\n",
    "from sklearn.metrics import mean_squared_error"
   ]
  },
  {
   "cell_type": "code",
   "execution_count": null,
   "id": "fe8307c9-355d-4678-b033-27c7ecb42970",
   "metadata": {},
   "outputs": [],
   "source": []
  },
  {
   "cell_type": "code",
   "execution_count": null,
   "id": "8fdcb39b-982b-4f81-b015-70043d276991",
   "metadata": {},
   "outputs": [],
   "source": [
    "for var in numerical:\n",
    "    print(var)\n",
    "    sns.jointplot(\n",
    "        x=var, \n",
    "        y=\"Price\", \n",
    "        data=df, \n",
    "        size=6, \n",
    "        kind=\"scatter\",\n",
    "        color='#800000', \n",
    "        space=0\n",
    "    )\n",
    "    #print('Correlation:',pearsonr(data[column], data[ycolumn])[0])\n",
    "    #ax.set_ylabel(ycolumn)\n",
    "    plt.show()\n",
    "    print('Number Of Missing Point')\n",
    "    print(df[var].isna().sum())\n",
    "    print('**'*30)"
   ]
  }
 ],
 "metadata": {
  "kernelspec": {
   "display_name": "lvpm",
   "language": "python",
   "name": "lvpm"
  },
  "language_info": {
   "codemirror_mode": {
    "name": "ipython",
    "version": 3
   },
   "file_extension": ".py",
   "mimetype": "text/x-python",
   "name": "python",
   "nbconvert_exporter": "python",
   "pygments_lexer": "ipython3",
   "version": "3.8.19"
  }
 },
 "nbformat": 4,
 "nbformat_minor": 5
}
